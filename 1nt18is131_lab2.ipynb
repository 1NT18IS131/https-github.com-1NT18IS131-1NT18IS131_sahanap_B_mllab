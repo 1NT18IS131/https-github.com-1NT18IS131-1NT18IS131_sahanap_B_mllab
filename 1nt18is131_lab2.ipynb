{
 "cells": [
  {
   "cell_type": "markdown",
   "id": "b87563d6-dc43-417e-9379-19b96d30df47",
   "metadata": {},
   "source": [
    "lab2"
   ]
  },
  {
   "cell_type": "markdown",
   "id": "80083d22-d8ed-4d5b-a9a6-b785d4e99aaf",
   "metadata": {},
   "source": [
    "Mean,Median,Mode,Normalization,Standardization,Standard Deviation,Variance"
   ]
  },
  {
   "cell_type": "code",
   "execution_count": 1,
   "id": "b58bfc70-d168-4a58-8255-2ba279b9937b",
   "metadata": {},
   "outputs": [],
   "source": [
    "import math\n",
    "import numpy as np\n",
    "def mean(list):\n",
    "    total=0\n",
    "    for i in range(0,len(list)):\n",
    "        total=total+ list[i]\n",
    "    return (total/len(list))\n",
    "                   \n",
    "def median(list):  \n",
    "    for i in range(0,len(list)-1):\n",
    "        for j in range(len(list)-1):\n",
    "            if(list[j]>list[j+1]):\n",
    "                temp=list[j]\n",
    "                list[j]=list[j+1]\n",
    "                list[j+1]=temp\n",
    "    \n",
    "    return list[int((len(list))/2)]\n",
    "\n",
    "def mode(list):\n",
    "    var=int(input(\"enter the num\"))\n",
    "    c=0\n",
    "    for i in range(0,len(list)-1):\n",
    "        if(var==list[i]):\n",
    "            c=c+1\n",
    "    return c\n",
    "def standarddeviation(list):\n",
    "    n=mean(list)\n",
    "    temp=0\n",
    "    for i in list:\n",
    "         temp=temp+((i-n) **2)\n",
    "    standarddeviation=math.sqrt((temp/len(list)))\n",
    "    return standarddeviation\n",
    "    \n",
    "def variance(list):\n",
    "    n=mean(list)\n",
    "    temp=0\n",
    "    for i in range(len(list)):\n",
    "        temp=temp+((i-n)**2)\n",
    "        \n",
    "    standard_deviation=math.sqrt(temp/len(list))\n",
    "    variance=standard_deviation*standard_deviation\n",
    "    return variance\n",
    "    \n",
    "def normalize(list):\n",
    "    n=min(list)\n",
    "    n1=max(list)\n",
    "    n2=0\n",
    "    for i in list:\n",
    "        n2=((i-n)/(n1-n))\n",
    "        print(n2)\n",
    "        \n",
    "def standardize(list):\n",
    "    n2=0\n",
    "    n=mean(list)\n",
    "    n1=standarddeviation(list)\n",
    "    for i in list:\n",
    "        n2=n2+((i-n)/n1)\n",
    "        print(n2)\n",
    "    \n",
    "def calculate(list,var):\n",
    "    if (var==1):\n",
    "        return mean(list)\n",
    "    elif(var==2):\n",
    "        return median(list)\n",
    "    elif (var==3):\n",
    "        return mode(list)\n",
    "    elif(var==4):\n",
    "        return standarddeviation(list)\n",
    "    elif (var==5):\n",
    "        return variance(list)\n",
    "    elif (var==6):\n",
    "        return normalize(list)\n",
    "    else:\n",
    "        return standardize(list)"
   ]
  },
  {
   "cell_type": "code",
   "execution_count": 2,
   "id": "1bf2bd4d-05af-4508-b509-caf8fd50341c",
   "metadata": {},
   "outputs": [
    {
     "name": "stdin",
     "output_type": "stream",
     "text": [
      " 1.mean 2 median 3 mode 4 standarddeviation 5 variance 6 normalize  7 standardization 3\n",
      "enter the num 2\n"
     ]
    },
    {
     "name": "stdout",
     "output_type": "stream",
     "text": [
      "1\n"
     ]
    }
   ],
   "source": [
    "list=[5,2,5,23,7,5,4,6,4]\n",
    "var=int(input(\" 1.mean 2 median 3 mode 4 standarddeviation 5 variance 6 normalize  7 standardization\"))\n",
    "print(calculate(list,var))"
   ]
  },
  {
   "cell_type": "code",
   "execution_count": null,
   "id": "1e3a7fe3-c204-4810-b64c-a6f10efd84fe",
   "metadata": {},
   "outputs": [],
   "source": []
  },
  {
   "cell_type": "code",
   "execution_count": null,
   "id": "fa0c4da6-9529-4417-95a1-550731e2cfe0",
   "metadata": {},
   "outputs": [],
   "source": []
  },
  {
   "cell_type": "code",
   "execution_count": null,
   "id": "f260836a-49dd-4934-9eb2-d74a799266b3",
   "metadata": {},
   "outputs": [],
   "source": []
  }
 ],
 "metadata": {
  "kernelspec": {
   "display_name": "Python 3 (ipykernel)",
   "language": "python",
   "name": "python3"
  },
  "language_info": {
   "codemirror_mode": {
    "name": "ipython",
    "version": 3
   },
   "file_extension": ".py",
   "mimetype": "text/x-python",
   "name": "python",
   "nbconvert_exporter": "python",
   "pygments_lexer": "ipython3",
   "version": "3.9.7"
  }
 },
 "nbformat": 4,
 "nbformat_minor": 5
}
