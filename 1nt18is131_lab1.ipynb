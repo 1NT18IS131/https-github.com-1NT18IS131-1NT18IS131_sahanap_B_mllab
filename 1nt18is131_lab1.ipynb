{
 "cells": [
  {
   "cell_type": "code",
   "execution_count": 2,
   "id": "d2a30a3c-1bc1-4712-91ed-d8981d4b912e",
   "metadata": {},
   "outputs": [
    {
     "data": {
      "text/plain": [
       "[2, 4, 6, 8, 1, 3, 5, 7]"
      ]
     },
     "execution_count": 2,
     "metadata": {},
     "output_type": "execute_result"
    }
   ],
   "source": [
    "import numpy as np\n",
    "l=[2,4,6,8]\n",
    "l1=[1,3,5,7]\n",
    "l2=l+l1\n",
    "l2"
   ]
  },
  {
   "cell_type": "code",
   "execution_count": 3,
   "id": "0182e4d2-f6c6-46a5-9e70-2f2870466a94",
   "metadata": {},
   "outputs": [
    {
     "name": "stdout",
     "output_type": "stream",
     "text": [
      "[13, 35, 57, 85]\n",
      "[22, 124, 306, 616]\n",
      "[-9, -27, -45, -69]\n"
     ]
    }
   ],
   "source": [
    "l=[2,4,6,8]\n",
    "l1=[11,31,51,77]\n",
    "s=[x + y for x , y in zip(l,l1)]\n",
    "diff=[x-y for x , y in zip(l,l1)]\n",
    "mul=[x*y for x,y in zip(l,l1)]\n",
    "print(s)\n",
    "print(mul)\n",
    "print(diff)"
   ]
  },
  {
   "cell_type": "code",
   "execution_count": 4,
   "id": "9fb52b2d-7e80-48f9-8a84-42c0d1a7ea3d",
   "metadata": {},
   "outputs": [
    {
     "data": {
      "text/plain": [
       "[22, 620, 2448, 1232]"
      ]
     },
     "execution_count": 4,
     "metadata": {},
     "output_type": "execute_result"
    }
   ],
   "source": [
    "l4=[1,5,8,2]\n",
    "pro=[x*y*z for x,y,z in zip(l,l1,l4)]\n",
    "pro"
   ]
  },
  {
   "cell_type": "markdown",
   "id": "4cb0fdca-c37e-40dd-9c5f-b8cb1b044fac",
   "metadata": {},
   "source": [
    "CALCULATOR"
   ]
  },
  {
   "cell_type": "code",
   "execution_count": 5,
   "id": "d9ccbba4-4f72-4f2d-bf53-c2aaefcffed4",
   "metadata": {},
   "outputs": [
    {
     "name": "stdout",
     "output_type": "stream",
     "text": [
      "1.Add 2.Sub 3.Multiplication 4. Divison\n"
     ]
    },
    {
     "name": "stdin",
     "output_type": "stream",
     "text": [
      " 1,2,3,4: 1\n",
      "enter first num 14\n",
      "enter sec num 54\n"
     ]
    },
    {
     "name": "stdout",
     "output_type": "stream",
     "text": [
      "68\n"
     ]
    }
   ],
   "source": [
    "def add(num,num1):\n",
    "    return num+num1\n",
    "def sub(num,num1):\n",
    "    return num-num1\n",
    "def pro(num,num1):\n",
    "    return num*num1\n",
    "def div(num,num1):\n",
    "    return num/num1\n",
    "\n",
    "print(\"1.Add 2.Sub 3.Multiplication 4. Divison\")\n",
    "select=(int(input(\" 1,2,3,4:\")))\n",
    "\n",
    "if select in (1,2,3,4):\n",
    "    num=int(input(\"enter first num\"))\n",
    "    num1=int(input(\"enter sec num\"))\n",
    "\n",
    "    if select == 1:\n",
    "        print(add(num,num1))\n",
    "             \n",
    "    elif select == 2:\n",
    "        print(sub(num,num1))  \n",
    "        \n",
    "    elif select == 3:\n",
    "        print(pro(num,num1))\n",
    "   \n",
    "    elif select == 4:\n",
    "        print(div(num,num1))\n"
   ]
  },
  {
   "cell_type": "markdown",
   "id": "09e05413-20c2-4956-9b40-1e1f40f18290",
   "metadata": {},
   "source": [
    "Bubble sort"
   ]
  },
  {
   "cell_type": "code",
   "execution_count": 6,
   "id": "57be3093-3337-48e6-8c56-d6325dbde154",
   "metadata": {},
   "outputs": [
    {
     "name": "stdout",
     "output_type": "stream",
     "text": [
      "Sorted array is:\n",
      "3\n",
      "4\n",
      "5\n",
      "6\n",
      "8\n",
      "9\n"
     ]
    }
   ],
   "source": [
    "def bubblesort(arr):\n",
    "    num=len(arr)\n",
    "\n",
    "    for i in range(num):\n",
    "        for j in range(0,num-i-1):\n",
    "            if(arr[j] > arr[j+1]):\n",
    "                arr[j],arr[j+1]=arr[j+1],arr[j]\n",
    "                \n",
    "arr=[5,4,8,9,6,3]\n",
    "\n",
    "bubblesort(arr)\n",
    " \n",
    "print (\"Sorted array is:\")\n",
    "    \n",
    "for i in range(len(arr)):\n",
    "    print(arr[i])"
   ]
  },
  {
   "cell_type": "code",
   "execution_count": null,
   "id": "0536ca79-5cde-4a59-92dd-0f125131d929",
   "metadata": {},
   "outputs": [],
   "source": []
  },
  {
   "cell_type": "code",
   "execution_count": null,
   "id": "ebef04cf-5c71-4485-9cda-c8967ca7a905",
   "metadata": {},
   "outputs": [],
   "source": []
  }
 ],
 "metadata": {
  "kernelspec": {
   "display_name": "Python 3 (ipykernel)",
   "language": "python",
   "name": "python3"
  },
  "language_info": {
   "codemirror_mode": {
    "name": "ipython",
    "version": 3
   },
   "file_extension": ".py",
   "mimetype": "text/x-python",
   "name": "python",
   "nbconvert_exporter": "python",
   "pygments_lexer": "ipython3",
   "version": "3.9.7"
  }
 },
 "nbformat": 4,
 "nbformat_minor": 5
}
