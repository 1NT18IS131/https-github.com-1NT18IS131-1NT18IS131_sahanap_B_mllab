{
 "cells": [
  {
   "cell_type": "code",
   "execution_count": 1,
   "metadata": {},
   "outputs": [
    {
     "data": {
      "text/plain": [
       "[2, 4, 6, 8, 1, 3, 5, 7]"
      ]
     },
     "execution_count": 1,
     "metadata": {},
     "output_type": "execute_result"
    }
   ],
   "source": [
    "import numpy as np\n",
    "l=[2,4,6,8]\n",
    "l1=[1,3,5,7]\n",
    "l2=l+l1\n",
    "l2"
   ]
  },
  {
   "cell_type": "code",
   "execution_count": 2,
   "metadata": {},
   "outputs": [
    {
     "name": "stdout",
     "output_type": "stream",
     "text": [
      "[13, 35, 57, 85]\n",
      "[22, 124, 306, 616]\n",
      "[-9, -27, -45, -69]\n"
     ]
    }
   ],
   "source": [
    "l=[2,4,6,8]\n",
    "l1=[11,31,51,77]\n",
    "s=[x + y for x , y in zip(l,l1)]\n",
    "diff=[x-y for x , y in zip(l,l1)]\n",
    "mul=[x*y for x,y in zip(l,l1)]\n",
    "print(s)\n",
    "print(mul)\n",
    "print(diff)"
   ]
  },
  {
   "cell_type": "code",
   "execution_count": 3,
   "metadata": {},
   "outputs": [
    {
     "data": {
      "text/plain": [
       "[22, 620, 2448, 1232]"
      ]
     },
     "execution_count": 3,
     "metadata": {},
     "output_type": "execute_result"
    }
   ],
   "source": [
    "l4=[1,5,8,2]\n",
    "pro=[x*y*z for x,y,z in zip(l,l1,l4)]\n",
    "pro"
   ]
  },
  {
   "cell_type": "markdown",
   "metadata": {},
   "source": [
    "Calculator"
   ]
  },
  {
   "cell_type": "code",
   "execution_count": 4,
   "metadata": {},
   "outputs": [
    {
     "name": "stdout",
     "output_type": "stream",
     "text": [
      "1.Add 2.Sub 3.Multiplication 4. Divison\n"
     ]
    },
    {
     "name": "stdin",
     "output_type": "stream",
     "text": [
      " 1,2,3,4: 3\n",
      "enter first num 7002\n",
      "enter sec num 314\n"
     ]
    },
    {
     "name": "stdout",
     "output_type": "stream",
     "text": [
      "2198628\n"
     ]
    }
   ],
   "source": [
    "def add(num,num1):\n",
    "    return num+num1\n",
    "def sub(num,num1):\n",
    "    return num-num1\n",
    "def pro(num,num1):\n",
    "    return num*num1\n",
    "def div(num,num1):\n",
    "    return num/num1\n",
    "\n",
    "print(\"1.Add 2.Sub 3.Multiplication 4. Divison\")\n",
    "select=(int(input(\" 1,2,3,4:\")))\n",
    "\n",
    "if select in (1,2,3,4):\n",
    "    num=int(input(\"enter first num\"))\n",
    "    num1=int(input(\"enter sec num\"))\n",
    "\n",
    "    if select == 1:\n",
    "        print(add(num,num1))\n",
    "             \n",
    "    elif select == 2:\n",
    "        print(sub(num,num1))  \n",
    "        \n",
    "    elif select == 3:\n",
    "        print(pro(num,num1))\n",
    "   \n",
    "    elif select == 4:\n",
    "        print(div(num,num1))\n"
   ]
  },
  {
   "cell_type": "markdown",
   "metadata": {},
   "source": [
    "Bubble Sort"
   ]
  },
  {
   "cell_type": "code",
   "execution_count": 5,
   "metadata": {},
   "outputs": [
    {
     "name": "stdout",
     "output_type": "stream",
     "text": [
      "Sorted array is:\n",
      "3\n",
      "4\n",
      "5\n",
      "6\n",
      "8\n",
      "9\n"
     ]
    }
   ],
   "source": [
    "def bubblesort(arr):\n",
    "    num=len(arr)\n",
    "\n",
    "    for i in range(num):\n",
    "        for j in range(0,num-i-1):\n",
    "            if(arr[j] > arr[j+1]):\n",
    "                arr[j],arr[j+1]=arr[j+1],arr[j]\n",
    "                \n",
    "arr=[5,4,8,9,6,3]\n",
    "\n",
    "bubblesort(arr)\n",
    " \n",
    "print (\"Sorted array is:\")\n",
    "    \n",
    "for i in range(len(arr)):\n",
    "    print(arr[i])"
   ]
  },
  {
   "cell_type": "markdown",
   "metadata": {},
   "source": [
    "LAB 2"
   ]
  },
  {
   "cell_type": "raw",
   "metadata": {},
   "source": [
    "Mean,Median,Mode,Standard Deviation,Variance,Normalization,Standardization"
   ]
  },
  {
   "cell_type": "code",
   "execution_count": 6,
   "metadata": {},
   "outputs": [],
   "source": [
    "import math\n",
    "import numpy as np\n",
    "def mean(list):\n",
    "    total=0\n",
    "    for i in range(0,len(list)):\n",
    "        total=total+ list[i]\n",
    "    return (total/len(list))\n",
    "                   \n",
    "def median(list):  \n",
    "    for i in range(0,len(list)-1):\n",
    "        for j in range(len(list)-1):\n",
    "            if(list[j]>list[j+1]):\n",
    "                temp=list[j]\n",
    "                list[j]=list[j+1]\n",
    "                list[j+1]=temp\n",
    "    \n",
    "    return list[int((len(list))/2)]\n",
    "\n",
    "def mode(list):\n",
    "    var=int(input(\"enter the num\"))\n",
    "    c=0\n",
    "    for i in range(0,len(list)-1):\n",
    "        if(var==list[i]):\n",
    "            c=c+1\n",
    "    return c\n",
    "def standarddeviation(list):\n",
    "    n=mean(list)\n",
    "    temp=0\n",
    "    for i in list:\n",
    "         temp=temp+((i-n) **2)\n",
    "    standarddeviation=math.sqrt((temp/len(list)))\n",
    "    return standarddeviation\n",
    "    \n",
    "def variance(list):\n",
    "    n=mean(list)\n",
    "    temp=0\n",
    "    for i in range(len(list)):\n",
    "        temp=temp+((i-n)**2)\n",
    "        \n",
    "    standard_deviation=math.sqrt(temp/len(list))\n",
    "    variance=standard_deviation*standard_deviation\n",
    "    return variance\n",
    "    \n",
    "def normalize(list):\n",
    "    n=min(list)\n",
    "    n1=max(list)\n",
    "    n2=0\n",
    "    for i in list:\n",
    "        n2=((i-n)/(n1-n))\n",
    "        print(n2)\n",
    "        \n",
    "def standardize(list):\n",
    "    n2=0\n",
    "    n=mean(list)\n",
    "    n1=standarddeviation(list)\n",
    "    for i in list:\n",
    "        n2=n2+((i-n)/n1)\n",
    "        print(n2)\n",
    "    \n",
    "def calculate(list,var):\n",
    "    if (var==1):\n",
    "        return mean(list)\n",
    "    elif(var==2):\n",
    "        return median(list)\n",
    "    elif (var==3):\n",
    "        return mode(list)\n",
    "    elif(var==4):\n",
    "        return standarddeviation(list)\n",
    "    elif (var==5):\n",
    "        return variance(list)\n",
    "    elif (var==6):\n",
    "        return normalize(list)\n",
    "    else:\n",
    "        return standardize(list)"
   ]
  },
  {
   "cell_type": "code",
   "execution_count": 7,
   "metadata": {},
   "outputs": [
    {
     "name": "stdin",
     "output_type": "stream",
     "text": [
      " 1.mean 2 median 3 mode 4 standarddeviation 5 variance 6 normalize  7 standardization 5\n"
     ]
    },
    {
     "name": "stdout",
     "output_type": "stream",
     "text": [
      "14.382716049382715\n"
     ]
    }
   ],
   "source": [
    "list=[5,2,5,23,7,5,4,6,4]\n",
    "var=int(input(\" 1.mean 2 median 3 mode 4 standarddeviation 5 variance 6 normalize  7 standardization\"))\n",
    "print(calculate(list,var))"
   ]
  },
  {
   "cell_type": "markdown",
   "metadata": {},
   "source": [
    "LAB 3"
   ]
  },
  {
   "cell_type": "markdown",
   "metadata": {},
   "source": [
    "K Means CLustering"
   ]
  },
  {
   "cell_type": "code",
   "execution_count": 8,
   "metadata": {},
   "outputs": [
    {
     "name": "stdout",
     "output_type": "stream",
     "text": [
      "[[5.9, 3.2], [4.6, 2.9], [4.7, 3.2], [5.0, 3.0], [4.9, 3.1], [5.1, 3.8], [6.0, 3.0]]\n",
      "[[5.5, 4.2]]\n",
      "[[6.2, 2.8], [6.7, 3.1]]\n"
     ]
    }
   ],
   "source": [
    "import numpy\n",
    "import math\n",
    "c1=[]\n",
    "c2=[]\n",
    "c3=[]\n",
    "x1,y1=6.2,3.2\n",
    "x2,y2=6.6,3.7\n",
    "x3,y3=6.5,3.0\n",
    "points=[[5.9,3.2],\n",
    "        [4.6,2.9],[6.2,2.8],\n",
    "        [4.7,3.2],[5.5,4.2],\n",
    "        [5.0,3.0],[4.9,3.1],\n",
    "        [6.7,3.1],[5.1,3.8],\n",
    "        [6.0,3.0]]\n",
    "\n",
    "def ed(x,y):\n",
    "    d1=math.sqrt((x-x1)** 2 + (y-y1)**2)\n",
    "    d2=math.sqrt((x-x2)** 2 + (y-y2)**2)\n",
    "    d3=math.sqrt((x-x3)** 2 + (y-y3)**2)\n",
    "    m=min(d1,d2,d3)\n",
    "    if (m==d1):\n",
    "        c1.append([x,y])\n",
    "    elif(m==d2):\n",
    "        c2.append([x,y])\n",
    "    elif(m ==d3):\n",
    "        c3.append([x,y])\n",
    "\n",
    "for i,j in points:\n",
    "    ed(i,j)\n",
    "print(c1)\n",
    "print(c2)\n",
    "print(c3)"
   ]
  },
  {
   "cell_type": "code",
   "execution_count": 9,
   "metadata": {},
   "outputs": [
    {
     "name": "stdout",
     "output_type": "stream",
     "text": [
      "5.1714 3.1714\n",
      "[[4.6, 2.9], [4.7, 3.2], [5.0, 3.0], [4.9, 3.1], [5.1, 3.8]]\n"
     ]
    }
   ],
   "source": [
    "sumi=0\n",
    "sumj=0\n",
    "for i,j in c1:\n",
    "    sumi=sumi+i\n",
    "    sumj=sumj+j\n",
    "    \n",
    "n_x1=round(sumi/len(c1),4)\n",
    "n_y1=round(sumj/len(c1),4)\n",
    "print(n_x1,n_y1)\n",
    "\n",
    "c4=[]\n",
    "def n_ed(x,y):\n",
    "    n_d1=math.sqrt((x-n_x1)** 2 + (y-n_y1)**2)\n",
    "    if (n_d1 < math.sqrt((x-x1)** 2 + (y-y1)**2)):\n",
    "        c4.append([x,y])\n",
    "    else:\n",
    "        pass\n",
    "for i,j in c1:\n",
    "     n_ed(i,j)\n",
    "print(c4)"
   ]
  },
  {
   "cell_type": "code",
   "execution_count": 10,
   "metadata": {},
   "outputs": [
    {
     "name": "stdout",
     "output_type": "stream",
     "text": [
      "4.86 3.2\n"
     ]
    }
   ],
   "source": [
    "sumi=0\n",
    "sumj=0\n",
    "for i,j in c4:\n",
    "    sumi=sumi+i\n",
    "    sumj=sumj+j\n",
    "    \n",
    "n_x1=round(sumi/len(c4),4)\n",
    "n_y1=round(sumj/len(c4),4)\n",
    "print(n_x1,n_y1)"
   ]
  },
  {
   "cell_type": "code",
   "execution_count": 11,
   "metadata": {},
   "outputs": [
    {
     "name": "stdout",
     "output_type": "stream",
     "text": [
      "[[5.5, 4.2]]\n"
     ]
    }
   ],
   "source": [
    "c5=[]\n",
    "def n_ed(x,y):\n",
    "    n_d1=math.sqrt((x-n_x1)** 2 + (y-n_y1)**2)\n",
    "    if (n_d1 < math.sqrt((x-x1)** 2 + (y-y1)**2)):\n",
    "        c5.append([x,y])\n",
    "    else:\n",
    "        pass\n",
    "for i,j in c2:\n",
    "     n_ed(i,j)\n",
    "print(c5)"
   ]
  },
  {
   "cell_type": "code",
   "execution_count": 12,
   "metadata": {},
   "outputs": [
    {
     "name": "stdout",
     "output_type": "stream",
     "text": [
      "5.5 4.2\n"
     ]
    }
   ],
   "source": [
    "sumi=0\n",
    "sumj=0\n",
    "for i,j in c2:\n",
    "    sumi=sumi+i\n",
    "    sumj=sumj+j\n",
    "    \n",
    "n_x1=round(sumi/len(c2),4)\n",
    "n_y1=round(sumj/len(c2),4)\n",
    "print(n_x1,n_y1)"
   ]
  }
 ],
 "metadata": {
  "kernelspec": {
   "display_name": "Python 3 (ipykernel)",
   "language": "python",
   "name": "python3"
  },
  "language_info": {
   "codemirror_mode": {
    "name": "ipython",
    "version": 3
   },
   "file_extension": ".py",
   "mimetype": "text/x-python",
   "name": "python",
   "nbconvert_exporter": "python",
   "pygments_lexer": "ipython3",
   "version": "3.9.7"
  }
 },
 "nbformat": 4,
 "nbformat_minor": 4
}
