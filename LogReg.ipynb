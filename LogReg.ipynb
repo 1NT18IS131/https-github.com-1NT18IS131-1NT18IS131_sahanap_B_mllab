{
  "nbformat": 4,
  "nbformat_minor": 0,
  "metadata": {
    "colab": {
      "name": "LogReg.ipynb",
      "provenance": []
    },
    "kernelspec": {
      "name": "python3",
      "display_name": "Python 3"
    },
    "language_info": {
      "name": "python"
    }
  },
  "cells": [
    {
      "cell_type": "code",
      "execution_count": 4,
      "metadata": {
        "id": "bRQbsQfYQ0DC"
      },
      "outputs": [],
      "source": [
        "import numpy as np\n",
        "from sklearn.model_selection import train_test_split\n",
        "from sklearn import datasets\n",
        "import matplotlib.pyplot as plt\n",
        "import pandas as pd"
      ]
    },
    {
      "cell_type": "code",
      "source": [
        "data = pd.read_csv(\"Student-University.csv\")\n",
        "print(data.head())"
      ],
      "metadata": {
        "colab": {
          "base_uri": "https://localhost:8080/"
        },
        "id": "qA9MUly3RAqm",
        "outputId": "d595e0c8-0118-410c-9d0d-ebfd8d2a84cf"
      },
      "execution_count": 5,
      "outputs": [
        {
          "output_type": "stream",
          "name": "stdout",
          "text": [
            "   34.62365962  78.02469282  0\n",
            "0    30.286711    43.894998  0\n",
            "1    35.847409    72.902198  0\n",
            "2    60.182599    86.308552  1\n",
            "3    79.032736    75.344376  1\n",
            "4    45.083277    56.316372  0\n"
          ]
        }
      ]
    },
    {
      "cell_type": "code",
      "source": [
        "from sklearn.preprocessing import StandardScaler\n",
        "scaler = StandardScaler()\n",
        "#scaler.fit_transform(data)"
      ],
      "metadata": {
        "id": "QeWcWNZQRAuM"
      },
      "execution_count": 6,
      "outputs": []
    },
    {
      "cell_type": "code",
      "source": [
        "x=data.values[:,0:2]\n",
        "y=data.values[:,2]\n",
        "#print(x)"
      ],
      "metadata": {
        "id": "cp5KTuSuRAxl"
      },
      "execution_count": 7,
      "outputs": []
    },
    {
      "cell_type": "code",
      "source": [
        "x_train, x_test, y_train, y_test = train_test_split(x, y, test_size=0.25, random_state=0)"
      ],
      "metadata": {
        "id": "B9_zKr0nRA0t"
      },
      "execution_count": 9,
      "outputs": []
    },
    {
      "cell_type": "code",
      "source": [
        "x1=x_train[:,0]\n",
        "x2=x_train[:,1]"
      ],
      "metadata": {
        "id": "EqTGNcywRA3k"
      },
      "execution_count": 10,
      "outputs": []
    },
    {
      "cell_type": "code",
      "source": [
        "b0=0.0\n",
        "b1=0.0\n",
        "b2=0.0\n",
        "\n",
        "#Y=b0+b1*x1+b2*x2\n",
        "#print(\"Y:\",Y)"
      ],
      "metadata": {
        "id": "NczNiWcPRZOr"
      },
      "execution_count": 11,
      "outputs": []
    },
    {
      "cell_type": "code",
      "source": [
        "print(y_train)"
      ],
      "metadata": {
        "colab": {
          "base_uri": "https://localhost:8080/"
        },
        "id": "p_Oxk4XQRZVo",
        "outputId": "99dff9ff-5066-4652-c2e8-1a5cab598e69"
      },
      "execution_count": 12,
      "outputs": [
        {
          "output_type": "stream",
          "name": "stdout",
          "text": [
            "[1. 1. 1. 1. 1. 0. 1. 1. 1. 1. 0. 1. 0. 0. 1. 0. 0. 0. 1. 0. 1. 1. 0. 0.\n",
            " 1. 1. 1. 0. 0. 0. 1. 1. 0. 1. 0. 0. 0. 0. 1. 1. 0. 1. 1. 1. 0. 0. 1. 1.\n",
            " 1. 1. 0. 1. 1. 1. 0. 1. 0. 1. 1. 1. 1. 1. 1. 1. 1. 1. 0. 1. 0. 1. 1. 0.\n",
            " 1. 0.]\n"
          ]
        }
      ]
    },
    {
      "cell_type": "code",
      "source": [
        "alpha=0.01 #alpha is the learning rate\n",
        "epochs=10000\n",
        "#pred=1/(1+np.exp(-Y))\n",
        "x=1\n",
        "while (epochs>0):\n",
        "    for i in range(len(x_train)):\n",
        "        pred=1/(1+np.exp(-(b0+(b1*x1[i])+(b2*x2[i]))))\n",
        "        #update b0,b1,b2\n",
        "        b0 = b0+alpha*(y_train[i]-pred)*pred*(1-pred)*x\n",
        "        b1 = b1+alpha*(y_train[i]-pred)*pred*(1-pred)*x1[i]\n",
        "        b2 = b2+alpha*(y_train[i]-pred)*pred*(1-pred)*x2[i]\n",
        "    epochs=epochs-1"
      ],
      "metadata": {
        "id": "A-PPTIF9RZYn"
      },
      "execution_count": 13,
      "outputs": []
    },
    {
      "cell_type": "code",
      "source": [
        "b0,b1,b2"
      ],
      "metadata": {
        "colab": {
          "base_uri": "https://localhost:8080/"
        },
        "id": "3g-VZARORZbt",
        "outputId": "7b0e3c39-2a92-4933-de90-a7208d343ea9"
      },
      "execution_count": 14,
      "outputs": [
        {
          "output_type": "execute_result",
          "data": {
            "text/plain": [
              "(-0.2494424991409875, 0.8391178577742217, -0.3101602391879731)"
            ]
          },
          "metadata": {},
          "execution_count": 14
        }
      ]
    },
    {
      "cell_type": "code",
      "source": [
        "x3=x_test[:,0]\n",
        "x4=x_test[:,1]\n",
        "final_prediction=[]\n",
        "print(y_test)\n",
        "for i in range(len(x_test)):\n",
        "    y_final=b0+b1*x3[i]+b2*x4[i]\n",
        "    prediction=1/(1+np.exp(-y_final))\n",
        "    final_prediction.append(np.ceil(prediction))\n",
        "    print(int(prediction))\n",
        "     \n",
        "#print(y_train)"
      ],
      "metadata": {
        "colab": {
          "base_uri": "https://localhost:8080/"
        },
        "id": "LEJ978fHRgkB",
        "outputId": "d5437526-a56c-427f-b1f3-fb540d2174f7"
      },
      "execution_count": 16,
      "outputs": [
        {
          "output_type": "stream",
          "name": "stdout",
          "text": [
            "[0. 1. 1. 1. 1. 1. 0. 1. 0. 1. 0. 0. 0. 0. 1. 1. 0. 1. 0. 1. 0. 0. 1. 1.\n",
            " 1.]\n",
            "1\n",
            "0\n",
            "0\n",
            "1\n",
            "0\n",
            "0\n",
            "1\n",
            "0\n",
            "0\n",
            "1\n",
            "0\n",
            "0\n",
            "1\n",
            "0\n",
            "0\n",
            "1\n",
            "0\n",
            "0\n",
            "0\n",
            "1\n",
            "0\n",
            "0\n",
            "1\n",
            "0\n",
            "1\n"
          ]
        }
      ]
    },
    {
      "cell_type": "code",
      "source": [
        "from sklearn.metrics import accuracy_score\n",
        "accuracy_score(y_test,final_prediction)"
      ],
      "metadata": {
        "colab": {
          "base_uri": "https://localhost:8080/"
        },
        "id": "1riwCiVBRgnb",
        "outputId": "e4dacece-c056-493c-8ed9-827543b61f8a"
      },
      "execution_count": 17,
      "outputs": [
        {
          "output_type": "execute_result",
          "data": {
            "text/plain": [
              "0.56"
            ]
          },
          "metadata": {},
          "execution_count": 17
        }
      ]
    },
    {
      "cell_type": "code",
      "source": [
        ""
      ],
      "metadata": {
        "id": "mNjIZEx8RgqP"
      },
      "execution_count": null,
      "outputs": []
    }
  ]
}